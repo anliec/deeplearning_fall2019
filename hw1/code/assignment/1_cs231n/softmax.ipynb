{
 "cells": [
  {
   "cell_type": "markdown",
   "metadata": {},
   "source": [
    "# Softmax Classifier"
   ]
  },
  {
   "cell_type": "markdown",
   "metadata": {},
   "source": [
    "This exercise guides you through the process of classifying images using a Softmax classifier. As part of this you will:\n",
    "\n",
    "- Implement a fully vectorized loss function for the Softmax classifier\n",
    "- Calculate the analytical gradient using vectorized code\n",
    "- Tune hyperparameters on a validation set\n",
    "- Optimize the loss function with Stochastic Gradient Descent (SGD)\n",
    "- Visualize the learned weights"
   ]
  },
  {
   "cell_type": "code",
   "execution_count": 1,
   "metadata": {
    "jupyter": {
     "outputs_hidden": false
    }
   },
   "outputs": [],
   "source": [
    "# start-up code! \n",
    "import random\n",
    "\n",
    "import matplotlib.pyplot as plt\n",
    "import numpy as np\n",
    "\n",
    "%matplotlib inline\n",
    "plt.rcParams['figure.figsize'] = (10.0, 8.0) # set default size of plots\n",
    "plt.rcParams['image.interpolation'] = 'nearest'\n",
    "plt.rcParams['image.cmap'] = 'gray'\n",
    "\n",
    "# for auto-reloading extenrnal modules\n",
    "# see http://stackoverflow.com/questions/1907993/autoreload-of-modules-in-ipython\n",
    "%load_ext autoreload\n",
    "%autoreload 2"
   ]
  },
  {
   "cell_type": "code",
   "execution_count": 2,
   "metadata": {
    "jupyter": {
     "outputs_hidden": false
    }
   },
   "outputs": [
    {
     "name": "stdout",
     "output_type": "stream",
     "text": [
      "Train, validation and testing sets have been created as \n",
      " X_i and y_i where i=train,val,test\n",
      "Train data shape:  (3073, 49000)\n",
      "Train labels shape:  (49000,)\n",
      "Val data shape:  (3073, 1000)\n",
      "Val labels shape:  (1000,)\n",
      "Test data shape:  (3073, 1000)\n",
      "Test labels shape:  (1000,)\n"
     ]
    }
   ],
   "source": [
    "from load_cifar10_tvt import load_cifar10_train_val\n",
    "\n",
    "X_train, y_train, X_val, y_val, X_test, y_test = load_cifar10_train_val()\n",
    "print(\"Train data shape: \", X_train.shape)\n",
    "print(\"Train labels shape: \", y_train.shape)\n",
    "print(\"Val data shape: \", X_val.shape)\n",
    "print(\"Val labels shape: \", y_val.shape)\n",
    "print(\"Test data shape: \", X_test.shape)\n",
    "print(\"Test labels shape: \", y_test.shape)"
   ]
  },
  {
   "cell_type": "markdown",
   "metadata": {},
   "source": [
    "Code for this section is to be written in `cs231n/classifiers/softmax.py`"
   ]
  },
  {
   "cell_type": "code",
   "execution_count": 7,
   "metadata": {
    "jupyter": {
     "outputs_hidden": false
    }
   },
   "outputs": [
    {
     "name": "stdout",
     "output_type": "stream",
     "text": [
      "(49000, 10) (3073, 49000) (10, 3073)\n",
      "vectorized loss: 2.338052e+00 computed in 0.374065s\n",
      "loss: 2.338052\n",
      "sanity check: 2.302585\n",
      "(49000, 10) (3073, 49000) (10, 3073)\n",
      "(49000, 10) (3073, 49000) (10, 3073)\n",
      "numerical: 0.457429 analytic: 0.457429, relative error: 2.032926e-07\n",
      "(49000, 10) (3073, 49000) (10, 3073)\n",
      "(49000, 10) (3073, 49000) (10, 3073)\n",
      "numerical: 0.532909 analytic: 0.532905, relative error: 3.917395e-06\n",
      "(49000, 10) (3073, 49000) (10, 3073)\n",
      "(49000, 10) (3073, 49000) (10, 3073)\n",
      "numerical: -1.089230 analytic: -1.089234, relative error: 1.717972e-06\n",
      "(49000, 10) (3073, 49000) (10, 3073)\n",
      "(49000, 10) (3073, 49000) (10, 3073)\n",
      "numerical: -4.731673 analytic: -4.731678, relative error: 5.445006e-07\n",
      "(49000, 10) (3073, 49000) (10, 3073)\n",
      "(49000, 10) (3073, 49000) (10, 3073)\n",
      "numerical: 0.750507 analytic: 0.750508, relative error: 4.002209e-07\n",
      "(49000, 10) (3073, 49000) (10, 3073)\n",
      "(49000, 10) (3073, 49000) (10, 3073)\n",
      "numerical: 0.274687 analytic: 0.274685, relative error: 4.252806e-06\n",
      "(49000, 10) (3073, 49000) (10, 3073)\n",
      "(49000, 10) (3073, 49000) (10, 3073)\n",
      "numerical: 1.422095 analytic: 1.422088, relative error: 2.514955e-06\n",
      "(49000, 10) (3073, 49000) (10, 3073)\n",
      "(49000, 10) (3073, 49000) (10, 3073)\n",
      "numerical: -0.968707 analytic: -0.968705, relative error: 1.091283e-06\n",
      "(49000, 10) (3073, 49000) (10, 3073)\n",
      "(49000, 10) (3073, 49000) (10, 3073)\n",
      "numerical: 1.285987 analytic: 1.285984, relative error: 1.163085e-06\n",
      "(49000, 10) (3073, 49000) (10, 3073)\n",
      "(49000, 10) (3073, 49000) (10, 3073)\n",
      "numerical: -5.086560 analytic: -5.086557, relative error: 3.181590e-07\n"
     ]
    }
   ],
   "source": [
    "# Now, implement the vectorized version in softmax_loss_vectorized.\n",
    "\n",
    "import time\n",
    "\n",
    "from cs231n.classifiers.softmax import softmax_loss_vectorized\n",
    "\n",
    "# gradient check.\n",
    "from cs231n.gradient_check import grad_check_sparse\n",
    "\n",
    "W = np.random.randn(10, 3073) * 0.0001\n",
    "\n",
    "tic = time.time()\n",
    "loss, grad = softmax_loss_vectorized(W, X_train, y_train, 0.00001)\n",
    "\n",
    "toc = time.time()\n",
    "print(\"vectorized loss: %e computed in %fs\" % (loss, toc - tic))\n",
    "\n",
    "# As a rough sanity check, our loss should be something close to -log(0.1).\n",
    "print(\"loss: %f\" % loss)\n",
    "print(\"sanity check: %f\" % (-np.log(0.1)))\n",
    "\n",
    "f = lambda w: softmax_loss_vectorized(w, X_train, y_train, 0.0)[0]\n",
    "grad_numerical = grad_check_sparse(f, W, grad, 10)"
   ]
  },
  {
   "cell_type": "markdown",
   "metadata": {},
   "source": [
    "Code for this section is to be written in`cs231n/classifiers/linear_classifier.py`"
   ]
  },
  {
   "cell_type": "code",
   "execution_count": 21,
   "metadata": {
    "jupyter": {
     "outputs_hidden": false
    }
   },
   "outputs": [
    {
     "name": "stdout",
     "output_type": "stream",
     "text": [
      "iteration 0 / 4000: loss 4.888176\n",
      "iteration 100 / 4000: loss 2.487090\n",
      "iteration 200 / 4000: loss 2.116544\n",
      "iteration 300 / 4000: loss 1.709953\n",
      "iteration 400 / 4000: loss 1.648315\n",
      "iteration 500 / 4000: loss 1.681750\n",
      "iteration 600 / 4000: loss 1.319980\n",
      "iteration 700 / 4000: loss 1.438710\n",
      "iteration 800 / 4000: loss 1.446283\n",
      "iteration 900 / 4000: loss 1.396363\n",
      "iteration 1000 / 4000: loss 1.234258\n",
      "iteration 1100 / 4000: loss 1.294098\n",
      "iteration 1200 / 4000: loss 1.484433\n",
      "iteration 1300 / 4000: loss 1.372953\n",
      "iteration 1400 / 4000: loss 1.120388\n",
      "iteration 1500 / 4000: loss 1.401092\n",
      "iteration 1600 / 4000: loss 1.237498\n",
      "iteration 1700 / 4000: loss 1.518683\n",
      "iteration 1800 / 4000: loss 1.333766\n",
      "iteration 1900 / 4000: loss 1.236700\n",
      "iteration 2000 / 4000: loss 1.161416\n",
      "iteration 2100 / 4000: loss 1.446871\n",
      "iteration 2200 / 4000: loss 1.399945\n",
      "iteration 2300 / 4000: loss 1.538703\n",
      "iteration 2400 / 4000: loss 1.485385\n",
      "iteration 2500 / 4000: loss 1.787126\n",
      "iteration 2600 / 4000: loss 1.947661\n",
      "iteration 2700 / 4000: loss 1.695456\n",
      "iteration 2800 / 4000: loss 1.892178\n",
      "iteration 2900 / 4000: loss 2.056832\n",
      "iteration 3000 / 4000: loss 2.236498\n",
      "iteration 3100 / 4000: loss 3.587887\n",
      "iteration 3200 / 4000: loss 5.442975\n",
      "iteration 3300 / 4000: loss 3.955915\n",
      "iteration 3400 / 4000: loss 3.691319\n",
      "iteration 3500 / 4000: loss 4.134461\n",
      "iteration 3600 / 4000: loss 3.582204\n",
      "iteration 3700 / 4000: loss 3.745385\n",
      "iteration 3800 / 4000: loss 4.773326\n",
      "iteration 3900 / 4000: loss 4.680663\n"
     ]
    },
    {
     "data": {
      "text/plain": [
       "Text(0, 0.5, 'Loss value')"
      ]
     },
     "execution_count": 21,
     "metadata": {},
     "output_type": "execute_result"
    },
    {
     "data": {
      "image/png": "[encoded data removed]",
      "text/plain": [
       "<Figure size 432x288 with 1 Axes>"
      ]
     },
     "metadata": {
      "needs_background": "light"
     },
     "output_type": "display_data"
    }
   ],
   "source": [
    "# Now that efficient implementations to calculate loss function and gradient of the softmax are ready,\n",
    "# use it to train the classifier on the cifar-10 data\n",
    "# Complete the `train` function in cs231n/classifiers/linear_classifier.py\n",
    "\n",
    "from cs231n.classifiers.linear_classifier import Softmax\n",
    "\n",
    "classifier = Softmax()\n",
    "loss_hist = classifier.train(\n",
    "    X_train,\n",
    "    y_train,\n",
    "    learning_rate=1e-5,\n",
    "    reg=1,\n",
    "    num_iters=4000,\n",
    "    batch_size=4000,\n",
    "    verbose=True,\n",
    ")\n",
    "# Plot loss vs. iterations\n",
    "plt.plot(loss_hist)\n",
    "plt.xlabel(\"Iteration number\")\n",
    "plt.ylabel(\"Loss value\")"
   ]
  },
  {
   "cell_type": "code",
   "execution_count": 22,
   "metadata": {
    "jupyter": {
     "outputs_hidden": false
    }
   },
   "outputs": [
    {
     "name": "stdout",
     "output_type": "stream",
     "text": [
      "softmax on raw pixels final test set accuracy: 0.173000\n"
     ]
    }
   ],
   "source": [
    "# Complete the `predict` function in cs231n/classifiers/linear_classifier.py\n",
    "# Evaluate on test set\n",
    "y_test_pred = classifier.predict(X_test)\n",
    "test_accuracy = np.mean(y_test == y_test_pred)\n",
    "print(\"softmax on raw pixels final test set accuracy: %f\" % (test_accuracy,))"
   ]
  },
  {
   "cell_type": "code",
   "execution_count": 23,
   "metadata": {
    "jupyter": {
     "outputs_hidden": false
    }
   },
   "outputs": [
    {
     "data": {
      "image/png": "[encoded data removed]",
      "text/plain": [
       "<Figure size 432x288 with 10 Axes>"
      ]
     },
     "metadata": {
      "needs_background": "light"
     },
     "output_type": "display_data"
    }
   ],
   "source": [
    "# Visualize the learned weights for each class\n",
    "w = classifier.W[:, :-1]  # strip out the bias\n",
    "w = w.reshape(10, 32, 32, 3)\n",
    "\n",
    "w_min, w_max = np.min(w), np.max(w)\n",
    "\n",
    "classes = [\n",
    "    \"plane\",\n",
    "    \"car\",\n",
    "    \"bird\",\n",
    "    \"cat\",\n",
    "    \"deer\",\n",
    "    \"dog\",\n",
    "    \"frog\",\n",
    "    \"horse\",\n",
    "    \"ship\",\n",
    "    \"truck\",\n",
    "]\n",
    "for i in range(10):\n",
    "    plt.subplot(2, 5, i + 1)\n",
    "\n",
    "    # Rescale the weights to be between 0 and 255\n",
    "    wimg = 255.0 * (w[i].squeeze() - w_min) / (w_max - w_min)\n",
    "    plt.imshow(wimg.astype(\"uint8\"))\n",
    "    plt.axis(\"off\")\n",
    "    plt.title(classes[i])"
   ]
  },
  {
   "cell_type": "code",
   "execution_count": null,
   "metadata": {},
   "outputs": [],
   "source": []
  },
  {
   "cell_type": "code",
   "execution_count": null,
   "metadata": {},
   "outputs": [],
   "source": []
  }
 ],
 "metadata": {
  "kernelspec": {
   "display_name": "Python 3",
   "language": "python",
   "name": "python3"
  },
  "language_info": {
   "codemirror_mode": {
    "name": "ipython",
    "version": 3
   },
   "file_extension": ".py",
   "mimetype": "text/x-python",
   "name": "python",
   "nbconvert_exporter": "python",
   "pygments_lexer": "ipython3",
   "version": "3.7.3"
  }
 },
 "nbformat": 4,
 "nbformat_minor": 4
}
